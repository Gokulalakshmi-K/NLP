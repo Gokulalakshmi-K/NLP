{
  "nbformat": 4,
  "nbformat_minor": 0,
  "metadata": {
    "colab": {
      "name": "TOKENIZING.ipynb",
      "provenance": [],
      "include_colab_link": true
    },
    "kernelspec": {
      "name": "python3",
      "display_name": "Python 3"
    },
    "language_info": {
      "name": "python"
    }
  },
  "cells": [
    {
      "cell_type": "markdown",
      "metadata": {
        "id": "view-in-github",
        "colab_type": "text"
      },
      "source": [
        "<a href=\"https://colab.research.google.com/github/Gokulalakshmi-K/NLP/blob/main/TOKENIZING.ipynb\" target=\"_parent\"><img src=\"https://colab.research.google.com/assets/colab-badge.svg\" alt=\"Open In Colab\"/></a>"
      ]
    },
    {
      "cell_type": "markdown",
      "source": [
        "##**TOKENIZING**"
      ],
      "metadata": {
        "id": "SojcQPrJrkHb"
      }
    },
    {
      "cell_type": "code",
      "execution_count": null,
      "metadata": {
        "colab": {
          "base_uri": "https://localhost:8080/"
        },
        "id": "JyCyS8EqmdOP",
        "outputId": "7796571e-51dc-45e5-807f-15599ab260b8"
      },
      "outputs": [
        {
          "output_type": "stream",
          "name": "stdout",
          "text": [
            "['I', 'like', 'my', 'momma']\n"
          ]
        }
      ],
      "source": [
        "#Tokenizing in python string function\n",
        "\n",
        "text = \"I like my momma\"\n",
        "t = text.split()\n",
        "print(t)"
      ]
    },
    {
      "cell_type": "code",
      "source": [
        "#Tokenizing in spacy\n",
        "\n",
        "import spacy\n",
        "nlp = spacy.load('en_core_web_sm')\n",
        "text = nlp(\"I like my momma\")\n",
        "\n",
        "for token in text:\n",
        "  print(token.text)"
      ],
      "metadata": {
        "colab": {
          "base_uri": "https://localhost:8080/"
        },
        "id": "o2mTvxTmr9Ne",
        "outputId": "92ea9144-75db-4a44-86fb-945a9ef6918b"
      },
      "execution_count": null,
      "outputs": [
        {
          "output_type": "stream",
          "name": "stdout",
          "text": [
            "I\n",
            "like\n",
            "my\n",
            "momma\n"
          ]
        }
      ]
    },
    {
      "cell_type": "code",
      "source": [
        "#Tokenizing in nltk\n",
        "\n",
        "\n",
        "import nltk\n",
        "nltk.download(\"punkt\")\n",
        "from nltk.tokenize import word_tokenize\n",
        "text = \"I like my momma\"\n",
        "tokens = word_tokenize(text)\n",
        "print(tokens)"
      ],
      "metadata": {
        "colab": {
          "base_uri": "https://localhost:8080/"
        },
        "id": "EExzH7gptPDG",
        "outputId": "05ce712f-1c42-4abc-96d3-019ac142e27c"
      },
      "execution_count": null,
      "outputs": [
        {
          "output_type": "stream",
          "name": "stdout",
          "text": [
            "[nltk_data] Downloading package punkt to /root/nltk_data...\n",
            "[nltk_data]   Package punkt is already up-to-date!\n",
            "['I', 'like', 'my', 'momma']\n"
          ]
        }
      ]
    },
    {
      "cell_type": "code",
      "source": [
        "#Tokenizing in tensorflow\n",
        "\n",
        "\n",
        "import tensorflow as tf\n",
        "from tensorflow import keras\n",
        "from tensorflow.keras.preprocessing.text import Tokenizer"
      ],
      "metadata": {
        "id": "V7LvaDqYviy0"
      },
      "execution_count": null,
      "outputs": []
    },
    {
      "cell_type": "code",
      "source": [
        "sentences = [\"I like my momma\"]"
      ],
      "metadata": {
        "id": "mFHefIzkvwxx"
      },
      "execution_count": null,
      "outputs": []
    },
    {
      "cell_type": "code",
      "source": [
        "tokenizer = Tokenizer(num_words = 100)\n",
        "tokenizer.fit_on_texts(sentences)\n",
        "word_index = tokenizer.word_index\n",
        "print(word_index)"
      ],
      "metadata": {
        "colab": {
          "base_uri": "https://localhost:8080/"
        },
        "id": "Kb6b6i__v7-d",
        "outputId": "2ba61979-a92e-4781-af6f-8833d8b074f2"
      },
      "execution_count": null,
      "outputs": [
        {
          "output_type": "stream",
          "name": "stdout",
          "text": [
            "{'i': 1, 'like': 2, 'my': 3, 'momma': 4}\n"
          ]
        }
      ]
    },
    {
      "cell_type": "code",
      "source": [
        "#Tokenizing in for loop\n",
        "\n",
        "str = \"I like my momma\"\n",
        "a = len(str)\n",
        "for index in range(a):\n",
        "    if str[index] == \" \":\n",
        "        print(\"\")\n",
        "    else:\n",
        "        print(str[index])"
      ],
      "metadata": {
        "colab": {
          "base_uri": "https://localhost:8080/"
        },
        "id": "DGvYG047tXlc",
        "outputId": "a4b9fecf-fe03-45c0-d707-7ad745f692c4"
      },
      "execution_count": null,
      "outputs": [
        {
          "output_type": "stream",
          "name": "stdout",
          "text": [
            "I\n",
            "\n",
            "l\n",
            "i\n",
            "k\n",
            "e\n",
            "\n",
            "m\n",
            "y\n",
            "\n",
            "m\n",
            "o\n",
            "m\n",
            "m\n",
            "a\n"
          ]
        }
      ]
    }
  ]
}